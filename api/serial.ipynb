{
 "cells": [
  {
   "cell_type": "code",
   "execution_count": null,
   "metadata": {},
   "outputs": [],
   "source": [
    "import serial \n",
    "import asyncio\n",
    "import os \n",
    "import threading\n",
    "import time\n",
    "import queue\n",
    "import re\n",
    "from IPython.display import clear_output, display"
   ]
  },
  {
   "cell_type": "code",
   "execution_count": null,
   "metadata": {},
   "outputs": [],
   "source": [
    "class serial_worker(threading.Thread):\n",
    "    def __init__(self, port, baudrate):\n",
    "        self.stop_event = threading.Event()\n",
    "        self.port = port\n",
    "        self.baudrate = baudrate\n",
    "        self.to_device = queue.Queue()\n",
    "        self.busy = False\n",
    "        self._reader = None\n",
    "        self._writer = None\n",
    "        super().__init__()\n",
    "\n",
    "    def connect(self):\n",
    "        try:\n",
    "            self._reader = serial.Serial(self.port, self.baudrate, timeout=1)\n",
    "            print('connected')\n",
    "            return True\n",
    "        except Exception as e:\n",
    "            print(e)\n",
    "            return False\n",
    "\n",
    "    def disconnect(self):\n",
    "        self._reader.close()\n",
    "        self._reader = None\n",
    "\n",
    "    def is_busy(self):\n",
    "        return self.busy\n",
    "\n",
    "    def send(self, data):\n",
    "        self.to_device.put(data)\n",
    "\n",
    "    def is_connected(self):\n",
    "        #check if the serial port is open and if the device is connected\n",
    "        if self._reader is not None and self._reader.isOpen():\n",
    "            return True\n",
    "        print('serial port is not open')\n",
    "        return False\n",
    "\n",
    "    def temp_search(self, data):\n",
    "        temp_regex_results = re.search('T:([^\\s]+) \\/([^\\s]+) @:([^\\s]+)', data.decode())\n",
    "        if temp_regex_results:\n",
    "            current_temp = temp_regex_results.group(1)\n",
    "            target_temp = temp_regex_results.group(2)\n",
    "            power = temp_regex_results.group(3)\n",
    "            print(current_temp, target_temp, power)\n",
    "    def position_search(self, data):\n",
    "        position_regex_results = re.search('X:([^\\s]+) Y:([^\\s]+) Z:([^\\s]+) E:([^\\s]+)', data.decode())\n",
    "        if position_regex_results:\n",
    "            x = float(position_regex_results.group(1))\n",
    "            y = float(position_regex_results.group(2))\n",
    "            z = float(position_regex_results.group(3))\n",
    "            e = float(position_regex_results.group(4))\n",
    "            print(x, y, z, e)\n",
    "    def reader(self):\n",
    "        data = self._reader.readline()\n",
    "        print('received: ', data.decode())\n",
    "        if b'ok' in data:\n",
    "            self.busy = False\n",
    "            if self.to_device.empty():\n",
    "                self.to_device.task_done()\n",
    "        if b'echo:busy: processing' in data:\n",
    "            # clear_output()\n",
    "            # display('busy: processing')\n",
    "            self.busy = True\n",
    "        self.temp_search(data)\n",
    "        self.position_search(data)\n",
    "    def writer(self):\n",
    "        if not self.busy:\n",
    "            to_be_sent = self.to_device.get()\n",
    "            to_be_sent = to_be_sent + '\\r'\n",
    "            print('sending: ', to_be_sent)\n",
    "            self._reader.write(to_be_sent.encode())\n",
    "            self._reader.flush()\n",
    "    def run(self):\n",
    "        print('thread started')\n",
    "        if self.connect():\n",
    "            while not self.stop_event.is_set():\n",
    "                self.writer()\n",
    "                self.reader()\n",
    "        print('thread stopped')\n",
    "        self.disconnect()\n",
    "        self.stop_event.clear()\n",
    "        self.to_device.queue.clear()\n"
   ]
  },
  {
   "cell_type": "code",
   "execution_count": null,
   "metadata": {},
   "outputs": [],
   "source": [
    "ser = serial_worker('COM3', 115200)\n",
    "ser.start()\n",
    "ser.send('G1 X100 F10000')"
   ]
  },
  {
   "cell_type": "code",
   "execution_count": null,
   "metadata": {},
   "outputs": [],
   "source": [
    "position= []\n",
    "for i in range(0, 100, 10):\n",
    "    position.append(i)\n",
    "repetitions = 100\n",
    "speed = 15000\n",
    "while repetitions > 0:\n",
    "    selected = repetitions % len(position)\n",
    "    ser.send('G1 X{} F{}'.format(position[selected], speed))\n",
    "    repetitions -= 1\n",
    "    ser.to_device.join()\n",
    "    print('done')\n",
    "    "
   ]
  },
  {
   "cell_type": "code",
   "execution_count": null,
   "metadata": {},
   "outputs": [],
   "source": [
    "# ser.stop_event.set()"
   ]
  },
  {
   "cell_type": "code",
   "execution_count": null,
   "metadata": {},
   "outputs": [],
   "source": []
  }
 ],
 "metadata": {
  "kernelspec": {
   "display_name": "Python 3",
   "language": "python",
   "name": "python3"
  },
  "language_info": {
   "codemirror_mode": {
    "name": "ipython",
    "version": 3
   },
   "file_extension": ".py",
   "mimetype": "text/x-python",
   "name": "python",
   "nbconvert_exporter": "python",
   "pygments_lexer": "ipython3",
   "version": "3.11.0"
  },
  "orig_nbformat": 4,
  "vscode": {
   "interpreter": {
    "hash": "c261aea317cc0286b3b3261fbba9abdec21eaa57589985bb7a274bf54d6cc0a7"
   }
  }
 },
 "nbformat": 4,
 "nbformat_minor": 2
}
