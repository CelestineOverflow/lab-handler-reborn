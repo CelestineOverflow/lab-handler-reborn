{
 "cells": [
  {
   "cell_type": "code",
   "execution_count": 5,
   "metadata": {},
   "outputs": [
    {
     "name": "stdout",
     "output_type": "stream",
     "text": [
      "query -> config['serial']['port'] -> 'COM3'\n",
      "query -> config['serial']['baudrate'] -> 115200\n",
      "query -> config['mechanicalConstrains']['z-rate'] -> 2500\n",
      "query -> config['mechanicalConstrains']['xy-rate'] -> 5000\n",
      "query -> config['mechanicalConstrains']['z-travel-height'] -> 110\n",
      "query -> config['mechanicalConstrains:z-probe']['probe-speed'] -> 100\n",
      "query -> config['mechanicalConstrains:z-probe']['force-press-tray'] -> 100\n",
      "query -> config['mechanicalConstrains:z-probe']['force-press-socket'] -> 4000\n",
      "query -> config['mechanicalConstrains:trays:tray0']['a0_position'] -> 233.64, 29.81, 39.1\n",
      "query -> config['mechanicalConstrains:trays:tray0']['offsetxy'] -> -16, 14.6\n",
      "query -> config['mechanicalConstrains:Waypoints']['socket'] -> 0, 0, 0\n",
      "query -> config['camera:main']['index'] -> 0\n",
      "query -> config['camera:secondary']['index'] -> 1\n",
      "query -> config['servos:camera_tilt']['readyangle'] -> 0\n",
      "query -> config['servos:camera_tilt']['restangle'] -> 90\n",
      "query -> config['servos:camera_tilt']['speed'] -> 100\n"
     ]
    }
   ],
   "source": [
    "import os, sys\n",
    "import time\n",
    "import configparser\n",
    "cfg = r'config\\config.cfg'\n",
    "config = configparser.ConfigParser()\n",
    "config.read(cfg)\n",
    "#print each section in config file\n",
    "for section in config.sections():\n",
    "    # print(section)\n",
    "    for key in config[section]:\n",
    "        # print(key, config[section][key])\n",
    "        print('query ->', \"config['%s']['%s']\" % (section, key), end=' ')\n",
    "        print('->', config[section][key])\n",
    "    "
   ]
  },
  {
   "cell_type": "code",
   "execution_count": null,
   "metadata": {},
   "outputs": [],
   "source": []
  }
 ],
 "metadata": {
  "kernelspec": {
   "display_name": "Python 3",
   "language": "python",
   "name": "python3"
  },
  "language_info": {
   "codemirror_mode": {
    "name": "ipython",
    "version": 3
   },
   "file_extension": ".py",
   "mimetype": "text/x-python",
   "name": "python",
   "nbconvert_exporter": "python",
   "pygments_lexer": "ipython3",
   "version": "3.11.0"
  },
  "orig_nbformat": 4,
  "vscode": {
   "interpreter": {
    "hash": "c261aea317cc0286b3b3261fbba9abdec21eaa57589985bb7a274bf54d6cc0a7"
   }
  }
 },
 "nbformat": 4,
 "nbformat_minor": 2
}
