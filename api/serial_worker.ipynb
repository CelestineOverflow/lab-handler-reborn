import serial 
import os 
import threading
import time
import queue

class serial_worker(threading.Thread):
    def __init__(self, port, baudrate):
        threading.Thread.__init__(self)
        self.port = port
        self.baudrate = baudrate
        self._queue = queue.Queue()
        self._reader = None
        self._writer = None
        self.to_device = queue.Queue()
        self.busy = False

    def start(self):
        self._connect()
        self._serial_loop()

    def _connect(self):
        self._reader = serial.Serial(self.port, self.baudrate)

    def _serial_loop(self):
        while True:
            if not self.busy:
                data = self.to_device.get()
                data = data + '\r'
                print('sending: ', data)
                self._reader.write(data.encode())
            data = self._reader.readline()
            print('received: ', data)
            self._queue.put_nowait(data)
            if b'ok' in data:
                self.busy = False
                if self.to_device.empty():
                    self.to_device.task_done()
            if b'echo:busy: processing' in data:
                self.busy = True

    def send(self, data):
        self.to_device.put(data)

    def get(self):
        return self._queue.get()

    def empty(self):
        return self._queue.empty()

    def task_done(self):
        self._queue.task_done()

    def join(self):
        self._queue.join()