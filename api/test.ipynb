{
 "cells": [
  {
   "cell_type": "code",
   "execution_count": null,
   "metadata": {},
   "outputs": [],
   "source": [
    "import serial_asyncio\n",
    "import time \n",
    "import asyncio\n",
    "import queue"
   ]
  },
  {
   "cell_type": "code",
   "execution_count": null,
   "metadata": {},
   "outputs": [],
   "source": [
    "class SerialWorker():\n",
    "    def __init__(self, port, baudrate, loop):\n",
    "        self.port = port\n",
    "        self.baudrate = baudrate\n",
    "        self.loop = loop\n",
    "        self._queue = asyncio.Queue()\n",
    "        self._reader = None\n",
    "        self._writer = None\n",
    "        self.to_device = asyncio.Queue()\n",
    "        self.busy = False\n",
    "\n",
    "    def start(self):\n",
    "        self.loop.create_task(self._connect())\n",
    "        self.loop.create_task(self._serial_loop())\n",
    "\n",
    "    async def _connect(self):\n",
    "        self._reader, self._writer = await serial_asyncio.open_serial_connection(\n",
    "            url=self.port, baudrate=self.baudrate, loop=self.loop\n",
    "        )\n",
    "\n",
    "    def is_connected(self):\n",
    "        return self._reader is not None and self._writer is not None\n",
    "    async def _serial_loop(self):\n",
    "        while True:\n",
    "            #check if the printer is connected\n",
    "            if self.is_connected():\n",
    "                if not self.busy:\n",
    "                    data = await self.to_device.get()\n",
    "                # send command\n",
    "                data = data + '\\r'\n",
    "                print('sending: ', data)\n",
    "                self._writer.write(data.encode())\n",
    "                await self._writer.drain()\n",
    "                data = await self._reader.readuntil()\n",
    "                print('received: ', data)\n",
    "                self._queue.put_nowait(data)\n",
    "                if b'ok' in data:\n",
    "                    self.busy = False\n",
    "                    if self.to_device.empty():\n",
    "                        self.to_device.task_done()\n",
    "                if b'echo:busy: processing' in data:\n",
    "                    self.busy = True\n"
   ]
  },
  {
   "cell_type": "code",
   "execution_count": null,
   "metadata": {},
   "outputs": [],
   "source": [
    "worker = SerialWorker(port='COM3', baudrate=115200, loop=asyncio.get_event_loop())\n",
    "worker.start()"
   ]
  },
  {
   "cell_type": "code",
   "execution_count": null,
   "metadata": {},
   "outputs": [],
   "source": [
    "positions = [0.0, 100.0]\n",
    "iterations = 100\n",
    "counter = 0\n",
    "\n",
    "while counter < iterations:\n",
    "    position = positions[counter % 2]\n",
    "    worker.to_device.put_nowait('G1 X{}'.format(position))\n",
    "    print('sent: ', position)\n",
    "    await worker.to_device.join()\n",
    "    print('done: ', position)\n",
    "    counter += 1\n"
   ]
  }
 ],
 "metadata": {
  "kernelspec": {
   "display_name": "Python 3",
   "language": "python",
   "name": "python3"
  },
  "language_info": {
   "codemirror_mode": {
    "name": "ipython",
    "version": 3
   },
   "file_extension": ".py",
   "mimetype": "text/x-python",
   "name": "python",
   "nbconvert_exporter": "python",
   "pygments_lexer": "ipython3",
   "version": "3.11.0"
  },
  "orig_nbformat": 4,
  "vscode": {
   "interpreter": {
    "hash": "c261aea317cc0286b3b3261fbba9abdec21eaa57589985bb7a274bf54d6cc0a7"
   }
  }
 },
 "nbformat": 4,
 "nbformat_minor": 2
}
