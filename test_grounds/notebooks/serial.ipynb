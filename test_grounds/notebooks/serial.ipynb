{
 "cells": [
  {
   "cell_type": "code",
   "execution_count": 1,
   "metadata": {},
   "outputs": [],
   "source": [
    "import serial \n",
    "import os \n",
    "import threading\n",
    "import time\n",
    "import queue\n",
    "import re\n",
    "from IPython.display import clear_output, display"
   ]
  },
  {
   "cell_type": "code",
   "execution_count": 2,
   "metadata": {},
   "outputs": [],
   "source": [
    "class serial_worker(threading.Thread):\n",
    "    def __init__(self, port, baudrate):\n",
    "        self.stop_event = threading.Event()\n",
    "        self.port = port\n",
    "        self.baudrate = baudrate\n",
    "        self.to_device = queue.Queue()\n",
    "        self.busy = False\n",
    "        self._reader = None\n",
    "        self._writer = None\n",
    "        self.position = (0, 0, 0, 0)\n",
    "        super().__init__()\n",
    "\n",
    "    def connect(self):\n",
    "        try:\n",
    "            self._reader = serial.Serial(self.port, self.baudrate, timeout=1)\n",
    "            print('connected')\n",
    "            return True\n",
    "        except Exception as e:\n",
    "            print(e)\n",
    "            return False\n",
    "\n",
    "    def disconnect(self):\n",
    "        self._reader.close()\n",
    "        self._reader = None\n",
    "\n",
    "    def is_busy(self):\n",
    "        return self.busy\n",
    "\n",
    "    def send(self, data):\n",
    "        self.to_device.put(data)\n",
    "\n",
    "    def is_connected(self):\n",
    "        #check if the serial port is open and if the device is connected\n",
    "        if self._reader is not None and self._reader.isOpen():\n",
    "            return True\n",
    "        print('serial port is not open')\n",
    "        return False\n",
    "\n",
    "    def temp_search(self, data):\n",
    "        temp_regex_results = re.search('T:([^\\s]+) \\/([^\\s]+) B:([^\\s]+) \\/([^\\s]+) @:([^\\s]+) B@:([^\\s]+)', data.decode())\n",
    "        if temp_regex_results:\n",
    "            ht0_current_temp = temp_regex_results.group(1)\n",
    "            ht0_target_temp = temp_regex_results.group(2)\n",
    "            bed_current_temp = temp_regex_results.group(3)\n",
    "            bed_target_temp = temp_regex_results.group(4)\n",
    "            return True\n",
    "        return False\n",
    "    def position_search(self, data):\n",
    "        position_regex_results = re.search('X:([^\\s]+) Y:([^\\s]+) Z:([^\\s]+) E:([^\\s]+)', data.decode())\n",
    "        if position_regex_results:\n",
    "            x = float(position_regex_results.group(1))\n",
    "            y = float(position_regex_results.group(2))\n",
    "            z = float(position_regex_results.group(3))\n",
    "            e = float(position_regex_results.group(4))\n",
    "            self.position = (x, y, z, e)\n",
    "            return True\n",
    "        return False\n",
    "    def reader(self):\n",
    "        data = self._reader.readline()\n",
    "        if not data == b'':\n",
    "            \n",
    "            found = self.position_search(data) or self.temp_search(data)\n",
    "            if not found:\n",
    "                print('received: ', data.decode())\n",
    "        if b'ok' in data:\n",
    "            self.busy = False\n",
    "            if self.to_device.empty():\n",
    "                self.to_device.task_done()\n",
    "        if b'echo:busy: processing' in data:\n",
    "            # clear_output()\n",
    "            # display('busy: processing')\n",
    "            self.busy = True\n",
    "        \n",
    "    def writer(self):\n",
    "        if not self.busy and not self.to_device.empty():\n",
    "            data = self.to_device.get()\n",
    "            data = data + '\\r'\n",
    "            self._reader.write(data.encode())\n",
    "            self._reader.flush()\n",
    "            self.busy = True\n",
    "    def run(self):\n",
    "        print('thread started')\n",
    "        if self.connect():\n",
    "            while not self.stop_event.is_set():\n",
    "                self.writer()\n",
    "                self.reader()\n",
    "        print('thread stopped')\n",
    "        self.disconnect()\n",
    "        self.stop_event.clear()\n",
    "        self.to_device.queue.clear()\n"
   ]
  },
  {
   "cell_type": "code",
   "execution_count": 3,
   "metadata": {},
   "outputs": [
    {
     "name": "stdout",
     "output_type": "stream",
     "text": [
      "thread started\n",
      "connected"
     ]
    },
    {
     "name": "stdout",
     "output_type": "stream",
     "text": [
      "\n"
     ]
    }
   ],
   "source": [
    "ser = serial_worker('COM3', 115200)\n",
    "ser.start()"
   ]
  },
  {
   "cell_type": "code",
   "execution_count": 11,
   "metadata": {},
   "outputs": [
    {
     "name": "stdout",
     "output_type": "stream",
     "text": [
      "received:  ok\n",
      "\n"
     ]
    }
   ],
   "source": [
    "ser.send('M107')\n",
    "ser.to_device.join()"
   ]
  }
 ],
 "metadata": {
  "kernelspec": {
   "display_name": "Python 3.10.5 64-bit",
   "language": "python",
   "name": "python3"
  },
  "language_info": {
   "codemirror_mode": {
    "name": "ipython",
    "version": 3
   },
   "file_extension": ".py",
   "mimetype": "text/x-python",
   "name": "python",
   "nbconvert_exporter": "python",
   "pygments_lexer": "ipython3",
   "version": "3.10.5"
  },
  "orig_nbformat": 4,
  "vscode": {
   "interpreter": {
    "hash": "08436a0098ae1768cd495d1320bbf1266fc37247d9c69947b593bcf30ee4ed74"
   }
  }
 },
 "nbformat": 4,
 "nbformat_minor": 2
}
